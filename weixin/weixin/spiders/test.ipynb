{
 "cells": [
  {
   "cell_type": "code",
   "execution_count": 4,
   "metadata": {},
   "outputs": [],
   "source": [
    "import requests as req\n",
    "import random"
   ]
  },
  {
   "cell_type": "code",
   "execution_count": 12,
   "metadata": {},
   "outputs": [],
   "source": []
  },
  {
   "cell_type": "code",
   "execution_count": 13,
   "metadata": {},
   "outputs": [],
   "source": [
    "\n",
    "with open(proxy_file,'r') as f:\n",
    "        org_proxies = f.read().splitlines()\n",
    "\n"
   ]
  },
  {
   "cell_type": "code",
   "execution_count": null,
   "metadata": {},
   "outputs": [],
   "source": [
    "def update_proxies(proxy_file,test_url):\n",
    "    \n",
    "    screen_proxies = []\n",
    "    org_proxies = []\n",
    "    with open(proxy_file,'r') as f:\n",
    "        org_proxies = f.read().splitlines()\n",
    "    random.choice()\n",
    "    while len(org_proxies)>=1:\n",
    "        req_proxy = random.choice(org_proxies)\n",
    "        req_proxies = {'http':req_proxy}\n",
    "        res = req.get(url=test_url,proxies=req_proxies)\n",
    "        if res.status_code==200:\n",
    "            screen_proxies.append(req_proxy)\n",
    "        else:\n",
    "            continue\n",
    "        org_proxies.remove(req_proxy)\n",
    "        \n",
    "    return screen_proxies"
   ]
  },
  {
   "cell_type": "code",
   "execution_count": 24,
   "metadata": {},
   "outputs": [],
   "source": [
    "proxies = update_proxies('proxies.text','https://mp.weixin.qq.com/')"
   ]
  },
  {
   "cell_type": "code",
   "execution_count": 26,
   "metadata": {},
   "outputs": [
    {
     "data": {
      "text/plain": [
       "267"
      ]
     },
     "execution_count": 26,
     "metadata": {},
     "output_type": "execute_result"
    }
   ],
   "source": [
    "len(proxies)"
   ]
  },
  {
   "cell_type": "code",
   "execution_count": null,
   "metadata": {},
   "outputs": [],
   "source": []
  }
 ],
 "metadata": {
  "kernelspec": {
   "display_name": "Python 3",
   "language": "python",
   "name": "python3"
  },
  "language_info": {
   "codemirror_mode": {
    "name": "ipython",
    "version": 3
   },
   "file_extension": ".py",
   "mimetype": "text/x-python",
   "name": "python",
   "nbconvert_exporter": "python",
   "pygments_lexer": "ipython3",
   "version": "3.7.9"
  }
 },
 "nbformat": 4,
 "nbformat_minor": 4
}
